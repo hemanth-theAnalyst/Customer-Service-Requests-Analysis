{
 "cells": [
  {
   "attachments": {},
   "cell_type": "markdown",
   "metadata": {},
   "source": [
    "# Customer Service Requests Analysis"
   ]
  },
  {
   "attachments": {},
   "cell_type": "markdown",
   "metadata": {},
   "source": [
    "### 1) Understanding the dataset"
   ]
  },
  {
   "attachments": {},
   "cell_type": "markdown",
   "metadata": {},
   "source": [
    "Importing required libraries"
   ]
  },
  {
   "cell_type": "code",
   "execution_count": null,
   "metadata": {},
   "outputs": [],
   "source": [
    "import pandas as pd\n",
    "import numpy as np\n",
    "import os\n",
    "import matplotlib.pyplot as plt\n",
    "import seaborn as sns\n",
    "from scipy import stats\n",
    "from scipy.stats import f_oneway\n",
    "\n",
    "cwd = os.getcwd()"
   ]
  },
  {
   "attachments": {},
   "cell_type": "markdown",
   "metadata": {},
   "source": [
    "Dataframe creation/Importing dataset"
   ]
  },
  {
   "cell_type": "code",
   "execution_count": null,
   "metadata": {},
   "outputs": [],
   "source": [
    "df_service = pd.read_csv(cwd + '/311_Service_Requests_from_2010_to_Present.csv', header = 0)"
   ]
  },
  {
   "attachments": {},
   "cell_type": "markdown",
   "metadata": {},
   "source": [
    "Visualizing the dataset"
   ]
  },
  {
   "cell_type": "code",
   "execution_count": null,
   "metadata": {},
   "outputs": [],
   "source": [
    "df_service.info()"
   ]
  },
  {
   "attachments": {},
   "cell_type": "markdown",
   "metadata": {},
   "source": [
    "Printing the columns of the DataFrame"
   ]
  },
  {
   "cell_type": "code",
   "execution_count": null,
   "metadata": {},
   "outputs": [],
   "source": [
    "print(df_service.columns)"
   ]
  },
  {
   "attachments": {},
   "cell_type": "markdown",
   "metadata": {},
   "source": [
    "Identifying the shape of the dataset"
   ]
  },
  {
   "cell_type": "code",
   "execution_count": null,
   "metadata": {},
   "outputs": [],
   "source": [
    "# identifying number of rows and columns\n",
    "df_service.shape"
   ]
  },
  {
   "attachments": {},
   "cell_type": "markdown",
   "metadata": {},
   "source": [
    "Identifying the variables with null values"
   ]
  },
  {
   "cell_type": "code",
   "execution_count": null,
   "metadata": {},
   "outputs": [],
   "source": [
    "df_service.isnull().sum()"
   ]
  },
  {
   "cell_type": "code",
   "execution_count": null,
   "metadata": {},
   "outputs": [],
   "source": [
    "# Dropping columns that would not contribute to the Analysis\n",
    "drop_cols = ['Intersection Street 1','Intersection Street 2',\n",
    "             'Address Type','Landmark','Incident Address','Street Name','Cross Street 1','Cross Street 2']\n",
    "df_service.drop(drop_cols, inplace=True, axis=1)\n",
    "df_service.info()"
   ]
  },
  {
   "attachments": {},
   "cell_type": "markdown",
   "metadata": {},
   "source": [
    "### 2) Performing basic data exploratory analysis"
   ]
  },
  {
   "attachments": {},
   "cell_type": "markdown",
   "metadata": {},
   "source": [
    "Drawing a frequency plot to show the number of null values in each column of the DataFrame"
   ]
  },
  {
   "cell_type": "code",
   "execution_count": null,
   "metadata": {},
   "outputs": [],
   "source": [
    "# Using the value_counts() here because value_counts() already counts frequency and putting it in a bar graph\n",
    "df_service_null = df_service.isnull().sum()\n",
    "df_service_null[df_service_null > 0].value_counts().plot.barh()\n",
    "plt.title('Number of null values in each column')\n",
    "plt.xlabel('Frequency')\n",
    "plt.ylabel('Null Count')"
   ]
  },
  {
   "attachments": {},
   "cell_type": "markdown",
   "metadata": {},
   "source": [
    "Missing value treatment"
   ]
  },
  {
   "cell_type": "code",
   "execution_count": null,
   "metadata": {},
   "outputs": [],
   "source": [
    "# Removing the records whose Closed Date values are null\n",
    "df_service.dropna(inplace=True,subset=['Closed Date'])\n",
    "df_service.isnull().sum()"
   ]
  },
  {
   "cell_type": "code",
   "execution_count": null,
   "metadata": {},
   "outputs": [],
   "source": [
    "df_service.info()"
   ]
  },
  {
   "attachments": {},
   "cell_type": "markdown",
   "metadata": {},
   "source": [
    "Analyzing the date column and removing entries that have an incorrect timeline"
   ]
  },
  {
   "cell_type": "code",
   "execution_count": null,
   "metadata": {},
   "outputs": [],
   "source": [
    "# Converting the dates to datetime format\n",
    "df_service['Created Date'] = pd.to_datetime(df_service['Created Date'], errors='coerce')\n",
    "df_service['Closed Date'] = pd.to_datetime(df_service['Closed Date'], errors='coerce')"
   ]
  },
  {
   "cell_type": "code",
   "execution_count": null,
   "metadata": {},
   "outputs": [],
   "source": [
    "# Calculating the time elapsed in closed and creation date\n",
    "df_service['Elapsed Time'] = df_service['Closed Date'] - df_service['Created Date']"
   ]
  },
  {
   "cell_type": "code",
   "execution_count": null,
   "metadata": {},
   "outputs": [],
   "source": [
    "# Converting the calculated date(elapsed time) to seconds and minutes to get a better representation\n",
    "df_service['Elapsed Time Seconds'] = (df_service['Elapsed Time']).dt.total_seconds()\n",
    "df_service['Elapsed Time Minutes'] = df_service['Elapsed Time']/np.timedelta64(1,'m')\n"
   ]
  },
  {
   "cell_type": "code",
   "execution_count": null,
   "metadata": {},
   "outputs": [],
   "source": [
    "# Descriptive statistics for the newly created column\n",
    "df_service['Elapsed Time Seconds'].describe()"
   ]
  },
  {
   "cell_type": "code",
   "execution_count": null,
   "metadata": {},
   "outputs": [],
   "source": [
    "# Number of null values in the Complaint_Type column\n",
    "df_service['Complaint Type'].isnull().sum()"
   ]
  },
  {
   "cell_type": "code",
   "execution_count": null,
   "metadata": {},
   "outputs": [],
   "source": [
    "# Number of null values in the City column\n",
    "df_service['City'].isnull().sum()"
   ]
  },
  {
   "cell_type": "code",
   "execution_count": null,
   "metadata": {},
   "outputs": [],
   "source": [
    "# Impute the NaN value with 'Unknown City'\n",
    "df_service['City'].fillna(inplace=True,value='Unknown City')\n",
    "df_service['City'].isnull().sum()"
   ]
  },
  {
   "cell_type": "code",
   "execution_count": null,
   "metadata": {},
   "outputs": [],
   "source": [
    "# Frequency plot for the complaints in each city\n",
    "plt.figure().set_size_inches(15,5)\n",
    "df_service['City'].value_counts().plot.bar()\n",
    "plt.title('Number of complaints in each city')\n",
    "plt.xlabel('City')\n",
    "plt.ylabel('Complaints')\n"
   ]
  },
  {
   "cell_type": "code",
   "execution_count": null,
   "metadata": {},
   "outputs": [],
   "source": [
    "# Analysis of compliants across Brooklyn\n",
    "df_brooklyn = df_service[df_service['Borough']=='BROOKLYN']\n",
    "df_brooklyn.info()"
   ]
  },
  {
   "cell_type": "code",
   "execution_count": null,
   "metadata": {},
   "outputs": [],
   "source": [
    "# Scatter and Hexbin plot of the concentration of complaints across Brooklyn\n",
    "df_brooklyn.plot(kind='scatter', title = 'Compliants concentration across Brooklyn', \n",
    "                 figsize=(18,9), x='Longitude', y='Latitude', alpha=0.1)\n",
    "df_brooklyn.plot(kind='hexbin', title = 'Compliants concentration across Brooklyn', \n",
    "                 figsize=(12,6), x='Longitude', y='Latitude', gridsize=30, cmap='inferno', mincnt=1).axis('equal')"
   ]
  },
  {
   "attachments": {},
   "cell_type": "markdown",
   "metadata": {},
   "source": [
    "### 3) Finding major types of complaints"
   ]
  },
  {
   "attachments": {},
   "cell_type": "markdown",
   "metadata": {},
   "source": [
    "Bar graph to show the types of complaints"
   ]
  },
  {
   "cell_type": "code",
   "execution_count": null,
   "metadata": {},
   "outputs": [],
   "source": [
    "df_service['Complaint Type'].value_counts().plot(kind='bar', title='Types of Complaints', \n",
    "                                                 figsize=(10,4), xlabel='\\nComplaint Type', ylabel='Count')"
   ]
  },
  {
   "attachments": {},
   "cell_type": "markdown",
   "metadata": {},
   "source": [
    "Frequency of various types of complaints for New York City"
   ]
  },
  {
   "cell_type": "code",
   "execution_count": null,
   "metadata": {},
   "outputs": [],
   "source": [
    "df_newyork = df_service[df_service['City']=='NEW YORK']\n",
    "df_newyork['Complaint Type'].value_counts()"
   ]
  },
  {
   "attachments": {},
   "cell_type": "markdown",
   "metadata": {},
   "source": [
    "Overall top 10 complaint types"
   ]
  },
  {
   "cell_type": "code",
   "execution_count": null,
   "metadata": {},
   "outputs": [],
   "source": [
    "df_service['Complaint Type'].value_counts().head(10)"
   ]
  },
  {
   "attachments": {},
   "cell_type": "markdown",
   "metadata": {},
   "source": [
    "Various types of complaints in each city"
   ]
  },
  {
   "cell_type": "code",
   "execution_count": null,
   "metadata": {},
   "outputs": [],
   "source": [
    "df_complaints_each_city = df_service.groupby(['City', 'Complaint Type'])\n",
    "df_complaints_each_city.size().to_frame('Count').reset_index()"
   ]
  },
  {
   "attachments": {},
   "cell_type": "markdown",
   "metadata": {},
   "source": [
    "New DataFrame, which contains cities as columns and complaint types in rows"
   ]
  },
  {
   "cell_type": "code",
   "execution_count": null,
   "metadata": {},
   "outputs": [],
   "source": [
    "df_new = df_service[['City', 'Complaint Type']]\n",
    "#df_new.pivot_table(values='Complaint Type', index=df_new.index, columns='City')\n",
    "#df_new.reset_index().groupby(['City']['Complaint Type']).aggregate('first').unstack()\n",
    "df_new['City'].transpose()\n",
    "df_new"
   ]
  },
  {
   "attachments": {},
   "cell_type": "markdown",
   "metadata": {},
   "source": [
    "### 4) Visualize the major types of complaints in each city"
   ]
  },
  {
   "attachments": {},
   "cell_type": "markdown",
   "metadata": {},
   "source": [
    "Chart that shows the types of complaints in each city in a single chart, where different colors show the different types of complaints"
   ]
  },
  {
   "cell_type": "code",
   "execution_count": null,
   "metadata": {},
   "outputs": [],
   "source": [
    "df_pivot = df_service.pivot_table(index='City', \n",
    "                                  columns = 'Complaint Type', values = 'Unique Key', aggfunc = 'count')\n",
    "df_pivot = df_pivot.sort_values(by=['Blocked Driveway'],ascending=False)\n",
    "df_pivot.iloc[:10,:].plot(kind='bar', figsize=(20,15), \n",
    "                          title='Number of Complaints by Type and City', ylabel = 'Count', stacked=True)"
   ]
  },
  {
   "attachments": {},
   "cell_type": "markdown",
   "metadata": {},
   "source": [
    "Sorting the complaint types based on the average Elapsed Time(Request Closing Time) and grouping them for different locations"
   ]
  },
  {
   "cell_type": "code",
   "execution_count": null,
   "metadata": {},
   "outputs": [],
   "source": [
    "df_service['Elapsed Time'].describe()"
   ]
  },
  {
   "cell_type": "code",
   "execution_count": null,
   "metadata": {},
   "outputs": [],
   "source": [
    "df_locationwise_elapsed_time = df_service.groupby(['Complaint Type','Borough'])[['Elapsed Time Minutes']].mean().unstack()\n",
    "df_locationwise_elapsed_time.head()\n",
    "\n"
   ]
  },
  {
   "attachments": {},
   "cell_type": "markdown",
   "metadata": {},
   "source": [
    "Verifying whether the average response time across different complaint types is similar (overall)"
   ]
  },
  {
   "cell_type": "code",
   "execution_count": null,
   "metadata": {},
   "outputs": [],
   "source": [
    "# Visualizing the average of Elapsed Time in Minutes\n",
    "\n",
    "df_locationwise_elapsed_time.plot(subplots='Elapsed Time Minutes',\n",
    "                                  figsize=(20,15), title='Average time taken to resolve a Complaints by Type and City', \n",
    "                                  ylabel = 'Avg. Time(in Mins)', stacked=True)"
   ]
  },
  {
   "attachments": {},
   "cell_type": "markdown",
   "metadata": {},
   "source": [
    "Identifing the significant variables by performing statistical analysis using p-values"
   ]
  },
  {
   "cell_type": "code",
   "execution_count": null,
   "metadata": {},
   "outputs": [],
   "source": [
    "# Since 'Noise' of any type is the most frequent complaint, it is taken for analysis\n",
    "df_all_noise = df_service[df_service['Complaint Type'].str.contains('Noise')]['Elapsed Time Minutes']\n",
    "df_all_noise.hist(range=(0,2000)) # The data is left skewed, needs to be converted to gaussian"
   ]
  },
  {
   "cell_type": "code",
   "execution_count": null,
   "metadata": {},
   "outputs": [],
   "source": [
    "# performing the same analysis as above on the compliant type 'Blocked Driveway' for comparison\n",
    "df_blk_driveway = df_service[df_service['Complaint Type']=='Blocked Driveway']['Elapsed Time Minutes']\n",
    "df_blk_driveway.hist(range=(0,2000))\n"
   ]
  },
  {
   "cell_type": "code",
   "execution_count": null,
   "metadata": {},
   "outputs": [],
   "source": [
    "# New Dataset\n",
    "log_dataset={}\n",
    "for i in df_service['Complaint Type'].unique():\n",
    "    log_dataset[i] = np.log(df_service[df_service['Complaint Type']==i]['Elapsed Time Minutes'])\n",
    "log_dataset.keys()"
   ]
  },
  {
   "cell_type": "code",
   "execution_count": null,
   "metadata": {},
   "outputs": [],
   "source": [
    "# ['Noise - Street/Sidewalk', 'Noise - Commercial', 'Noise - House of Worship', 'Noise - Vehicle',  'Noise - Park']\n",
    "log_dataset['Noise - Street/Sidewalk'].hist()"
   ]
  },
  {
   "cell_type": "code",
   "execution_count": null,
   "metadata": {},
   "outputs": [],
   "source": [
    "log_dataset['Blocked Driveway'].hist()"
   ]
  },
  {
   "attachments": {},
   "cell_type": "markdown",
   "metadata": {},
   "source": [
    "### ANOVA Analysis"
   ]
  },
  {
   "cell_type": "code",
   "execution_count": null,
   "metadata": {},
   "outputs": [],
   "source": [
    "# Oneway ANOVA Analysis (Checking for all Noise complaints)\n",
    "# Null Hypothesis: The average response time across complaint types is not different\n",
    "# Alternate Hypothesis: The average response time across complaint types is different\n",
    "\n",
    "f_oneway(log_dataset['Noise - Street/Sidewalk'], log_dataset['Noise - Commercial'], \n",
    "log_dataset['Noise - House of Worship'], log_dataset['Noise - Vehicle'], log_dataset['Noise - Park'])\n"
   ]
  },
  {
   "attachments": {},
   "cell_type": "markdown",
   "metadata": {},
   "source": [
    "Based on the above dataset (with all Noise related complaints), the p value returned by Oneway ANOVA test is > 0.05, which accepts the Null Hypothesis."
   ]
  },
  {
   "cell_type": "code",
   "execution_count": null,
   "metadata": {},
   "outputs": [],
   "source": [
    "# Let us now try Oneway ANOVA test with a different set of complaints in the dataset\n",
    "# This time let us check for the top 5 complaints\n",
    "f_oneway(log_dataset['Blocked Driveway'],\n",
    "    log_dataset['Illegal Parking'],\n",
    "    log_dataset['Noise - Street/Sidewalk'],\n",
    "    log_dataset['Noise - Commercial'],\n",
    "    log_dataset['Derelict Vehicle'])"
   ]
  },
  {
   "attachments": {},
   "cell_type": "markdown",
   "metadata": {},
   "source": [
    "Based on the above dataset (with top 5 complaints), the p value returned by Oneway ANOVA test is <> 0.05, which rejects the Null Hypothesis."
   ]
  },
  {
   "attachments": {},
   "cell_type": "markdown",
   "metadata": {},
   "source": [
    "### Kruskal-Wallis H test"
   ]
  },
  {
   "attachments": {},
   "cell_type": "markdown",
   "metadata": {},
   "source": [
    "Let us now run the Kruskal Wallis test on the same datasets."
   ]
  },
  {
   "cell_type": "code",
   "execution_count": null,
   "metadata": {},
   "outputs": [],
   "source": [
    "# Kruskal Wallis test (Checking for all Noise complaints)\n",
    "stats.kruskal(log_dataset['Noise - Street/Sidewalk'], log_dataset['Noise - Commercial'], \n",
    "log_dataset['Noise - House of Worship'], log_dataset['Noise - Vehicle'], log_dataset['Noise - Park'])\n",
    "         "
   ]
  },
  {
   "attachments": {},
   "cell_type": "markdown",
   "metadata": {},
   "source": [
    "Based on the above dataset (with all Noise related complaints), the p value returned by Oneway ANOVA test is > 0.05, which accepts the Null Hypothesis.\n",
    "\n",
    "Both oneway and kruskal wallis test produce similar results."
   ]
  },
  {
   "cell_type": "code",
   "execution_count": null,
   "metadata": {},
   "outputs": [],
   "source": [
    "stats.kruskal(log_dataset['Blocked Driveway'],\n",
    "    log_dataset['Illegal Parking'],\n",
    "    log_dataset['Noise - Street/Sidewalk'],\n",
    "    log_dataset['Noise - Commercial'],\n",
    "    log_dataset['Derelict Vehicle'])"
   ]
  },
  {
   "attachments": {},
   "cell_type": "markdown",
   "metadata": {},
   "source": [
    "Based on the above dataset (with all Noise related complaints), the p value returned by Oneway ANOVA test is < 0.05, which rejects the Null Hypothesis.\n",
    "\n",
    "Both oneway and kruskal wallis test produce similar results."
   ]
  }
 ],
 "metadata": {
  "kernelspec": {
   "display_name": "Python 3",
   "language": "python",
   "name": "python3"
  },
  "language_info": {
   "codemirror_mode": {
    "name": "ipython",
    "version": 3
   },
   "file_extension": ".py",
   "mimetype": "text/x-python",
   "name": "python",
   "nbconvert_exporter": "python",
   "pygments_lexer": "ipython3",
   "version": "3.10.2"
  },
  "orig_nbformat": 4,
  "vscode": {
   "interpreter": {
    "hash": "3638af845438fb69df12740950b94a0875b379683afa52046714f8ca11ddb3f9"
   }
  }
 },
 "nbformat": 4,
 "nbformat_minor": 2
}
